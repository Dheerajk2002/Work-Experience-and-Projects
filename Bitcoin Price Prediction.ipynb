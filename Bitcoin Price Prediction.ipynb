{
 "cells": [
  {
   "cell_type": "code",
   "execution_count": 3,
   "id": "d6c8709a-b09c-49a7-aaa9-16f570b6e7e3",
   "metadata": {},
   "outputs": [],
   "source": [
    "import numpy as np\n",
    "import pandas as pd\n",
    "import matplotlib.pyplot as plt\n",
    "import seaborn as sb\n",
    "\n",
    "from sklearn.model_selection import train_test_split\n",
    "from sklearn.preprocessing import StandardScaler\n",
    "from sklearn.linear_model import LogisticRegression\n",
    "from sklearn.svm import SVC\n",
    "from xgboost import XGBClassifier\n",
    "from sklearn import metrics\n",
    "\n",
    "import warnings\n",
    "warnings.filterwarnings('ignore') "
   ]
  },
  {
   "cell_type": "code",
   "execution_count": 8,
   "id": "a29c1c30-7697-4f3c-a224-eb678057c2ae",
   "metadata": {},
   "outputs": [
    {
     "data": {
      "text/html": [
       "<div>\n",
       "<style scoped>\n",
       "    .dataframe tbody tr th:only-of-type {\n",
       "        vertical-align: middle;\n",
       "    }\n",
       "\n",
       "    .dataframe tbody tr th {\n",
       "        vertical-align: top;\n",
       "    }\n",
       "\n",
       "    .dataframe thead th {\n",
       "        text-align: right;\n",
       "    }\n",
       "</style>\n",
       "<table border=\"1\" class=\"dataframe\">\n",
       "  <thead>\n",
       "    <tr style=\"text-align: right;\">\n",
       "      <th></th>\n",
       "      <th>Date</th>\n",
       "      <th>Open</th>\n",
       "      <th>High</th>\n",
       "      <th>Low</th>\n",
       "      <th>Close</th>\n",
       "      <th>Adj Close</th>\n",
       "      <th>Volume</th>\n",
       "    </tr>\n",
       "  </thead>\n",
       "  <tbody>\n",
       "    <tr>\n",
       "      <th>0</th>\n",
       "      <td>2014-09-17</td>\n",
       "      <td>465.864014</td>\n",
       "      <td>468.174011</td>\n",
       "      <td>452.421997</td>\n",
       "      <td>457.334015</td>\n",
       "      <td>457.334015</td>\n",
       "      <td>21056800</td>\n",
       "    </tr>\n",
       "    <tr>\n",
       "      <th>1</th>\n",
       "      <td>2014-09-18</td>\n",
       "      <td>456.859985</td>\n",
       "      <td>456.859985</td>\n",
       "      <td>413.104004</td>\n",
       "      <td>424.440002</td>\n",
       "      <td>424.440002</td>\n",
       "      <td>34483200</td>\n",
       "    </tr>\n",
       "    <tr>\n",
       "      <th>2</th>\n",
       "      <td>2014-09-19</td>\n",
       "      <td>424.102997</td>\n",
       "      <td>427.834991</td>\n",
       "      <td>384.532013</td>\n",
       "      <td>394.795990</td>\n",
       "      <td>394.795990</td>\n",
       "      <td>37919700</td>\n",
       "    </tr>\n",
       "    <tr>\n",
       "      <th>3</th>\n",
       "      <td>2014-09-20</td>\n",
       "      <td>394.673004</td>\n",
       "      <td>423.295990</td>\n",
       "      <td>389.882996</td>\n",
       "      <td>408.903992</td>\n",
       "      <td>408.903992</td>\n",
       "      <td>36863600</td>\n",
       "    </tr>\n",
       "    <tr>\n",
       "      <th>4</th>\n",
       "      <td>2014-09-21</td>\n",
       "      <td>408.084991</td>\n",
       "      <td>412.425995</td>\n",
       "      <td>393.181000</td>\n",
       "      <td>398.821014</td>\n",
       "      <td>398.821014</td>\n",
       "      <td>26580100</td>\n",
       "    </tr>\n",
       "  </tbody>\n",
       "</table>\n",
       "</div>"
      ],
      "text/plain": [
       "         Date        Open        High         Low       Close   Adj Close  \\\n",
       "0  2014-09-17  465.864014  468.174011  452.421997  457.334015  457.334015   \n",
       "1  2014-09-18  456.859985  456.859985  413.104004  424.440002  424.440002   \n",
       "2  2014-09-19  424.102997  427.834991  384.532013  394.795990  394.795990   \n",
       "3  2014-09-20  394.673004  423.295990  389.882996  408.903992  408.903992   \n",
       "4  2014-09-21  408.084991  412.425995  393.181000  398.821014  398.821014   \n",
       "\n",
       "     Volume  \n",
       "0  21056800  \n",
       "1  34483200  \n",
       "2  37919700  \n",
       "3  36863600  \n",
       "4  26580100  "
      ]
     },
     "execution_count": 8,
     "metadata": {},
     "output_type": "execute_result"
    }
   ],
   "source": [
    "df = pd.read_csv('C:/Users/thebe/Desktop/phython/bitcoin.csv')\n",
    "df.head()"
   ]
  },
  {
   "cell_type": "code",
   "execution_count": 9,
   "id": "d8812c8c-aa17-4fc2-a5f6-41981dec316f",
   "metadata": {},
   "outputs": [
    {
     "data": {
      "text/plain": [
       "(2713, 7)"
      ]
     },
     "execution_count": 9,
     "metadata": {},
     "output_type": "execute_result"
    }
   ],
   "source": [
    "df.shape "
   ]
  },
  {
   "cell_type": "code",
   "execution_count": 10,
   "id": "e906bd82-d365-4aa9-8a05-b83e94fd4abb",
   "metadata": {},
   "outputs": [
    {
     "data": {
      "text/html": [
       "<div>\n",
       "<style scoped>\n",
       "    .dataframe tbody tr th:only-of-type {\n",
       "        vertical-align: middle;\n",
       "    }\n",
       "\n",
       "    .dataframe tbody tr th {\n",
       "        vertical-align: top;\n",
       "    }\n",
       "\n",
       "    .dataframe thead th {\n",
       "        text-align: right;\n",
       "    }\n",
       "</style>\n",
       "<table border=\"1\" class=\"dataframe\">\n",
       "  <thead>\n",
       "    <tr style=\"text-align: right;\">\n",
       "      <th></th>\n",
       "      <th>Open</th>\n",
       "      <th>High</th>\n",
       "      <th>Low</th>\n",
       "      <th>Close</th>\n",
       "      <th>Adj Close</th>\n",
       "      <th>Volume</th>\n",
       "    </tr>\n",
       "  </thead>\n",
       "  <tbody>\n",
       "    <tr>\n",
       "      <th>count</th>\n",
       "      <td>2713.000000</td>\n",
       "      <td>2713.000000</td>\n",
       "      <td>2713.000000</td>\n",
       "      <td>2713.000000</td>\n",
       "      <td>2713.000000</td>\n",
       "      <td>2.713000e+03</td>\n",
       "    </tr>\n",
       "    <tr>\n",
       "      <th>mean</th>\n",
       "      <td>11311.041069</td>\n",
       "      <td>11614.292482</td>\n",
       "      <td>10975.555057</td>\n",
       "      <td>11323.914637</td>\n",
       "      <td>11323.914637</td>\n",
       "      <td>1.470462e+10</td>\n",
       "    </tr>\n",
       "    <tr>\n",
       "      <th>std</th>\n",
       "      <td>16106.428891</td>\n",
       "      <td>16537.390649</td>\n",
       "      <td>15608.572560</td>\n",
       "      <td>16110.365010</td>\n",
       "      <td>16110.365010</td>\n",
       "      <td>2.001627e+10</td>\n",
       "    </tr>\n",
       "    <tr>\n",
       "      <th>min</th>\n",
       "      <td>176.897003</td>\n",
       "      <td>211.731003</td>\n",
       "      <td>171.509995</td>\n",
       "      <td>178.102997</td>\n",
       "      <td>178.102997</td>\n",
       "      <td>5.914570e+06</td>\n",
       "    </tr>\n",
       "    <tr>\n",
       "      <th>25%</th>\n",
       "      <td>606.396973</td>\n",
       "      <td>609.260986</td>\n",
       "      <td>604.109985</td>\n",
       "      <td>606.718994</td>\n",
       "      <td>606.718994</td>\n",
       "      <td>7.991080e+07</td>\n",
       "    </tr>\n",
       "    <tr>\n",
       "      <th>50%</th>\n",
       "      <td>6301.569824</td>\n",
       "      <td>6434.617676</td>\n",
       "      <td>6214.220215</td>\n",
       "      <td>6317.609863</td>\n",
       "      <td>6317.609863</td>\n",
       "      <td>5.098183e+09</td>\n",
       "    </tr>\n",
       "    <tr>\n",
       "      <th>75%</th>\n",
       "      <td>10452.399414</td>\n",
       "      <td>10762.644531</td>\n",
       "      <td>10202.387695</td>\n",
       "      <td>10462.259766</td>\n",
       "      <td>10462.259766</td>\n",
       "      <td>2.456992e+10</td>\n",
       "    </tr>\n",
       "    <tr>\n",
       "      <th>max</th>\n",
       "      <td>67549.734375</td>\n",
       "      <td>68789.625000</td>\n",
       "      <td>66382.062500</td>\n",
       "      <td>67566.828125</td>\n",
       "      <td>67566.828125</td>\n",
       "      <td>3.509679e+11</td>\n",
       "    </tr>\n",
       "  </tbody>\n",
       "</table>\n",
       "</div>"
      ],
      "text/plain": [
       "               Open          High           Low         Close     Adj Close  \\\n",
       "count   2713.000000   2713.000000   2713.000000   2713.000000   2713.000000   \n",
       "mean   11311.041069  11614.292482  10975.555057  11323.914637  11323.914637   \n",
       "std    16106.428891  16537.390649  15608.572560  16110.365010  16110.365010   \n",
       "min      176.897003    211.731003    171.509995    178.102997    178.102997   \n",
       "25%      606.396973    609.260986    604.109985    606.718994    606.718994   \n",
       "50%     6301.569824   6434.617676   6214.220215   6317.609863   6317.609863   \n",
       "75%    10452.399414  10762.644531  10202.387695  10462.259766  10462.259766   \n",
       "max    67549.734375  68789.625000  66382.062500  67566.828125  67566.828125   \n",
       "\n",
       "             Volume  \n",
       "count  2.713000e+03  \n",
       "mean   1.470462e+10  \n",
       "std    2.001627e+10  \n",
       "min    5.914570e+06  \n",
       "25%    7.991080e+07  \n",
       "50%    5.098183e+09  \n",
       "75%    2.456992e+10  \n",
       "max    3.509679e+11  "
      ]
     },
     "execution_count": 10,
     "metadata": {},
     "output_type": "execute_result"
    }
   ],
   "source": [
    "df.describe()"
   ]
  },
  {
   "cell_type": "code",
   "execution_count": null,
   "id": "31926245-6a23-4bca-91d3-96b8e7ba73dd",
   "metadata": {},
   "outputs": [],
   "source": [
    "df.info()"
   ]
  },
  {
   "cell_type": "code",
   "execution_count": null,
   "id": "44a9320d-4867-42df-93d8-61e7333749a3",
   "metadata": {},
   "outputs": [],
   "source": [
    "plt.figure(figsize=(15, 5))\n",
    "plt.plot(df['Close'])\n",
    "plt.title('Bitcoin Close price.', fontsize=15)\n",
    "plt.ylabel('Price in dollars.')\n",
    "plt.show()"
   ]
  },
  {
   "cell_type": "code",
   "execution_count": null,
   "id": "98564a9d-162c-4d0a-9c18-a99dd76f97be",
   "metadata": {},
   "outputs": [],
   "source": [
    "df[df['Close'] == df['Adj Close']].shape, df.shape"
   ]
  },
  {
   "cell_type": "code",
   "execution_count": null,
   "id": "72f75a8a-8f3f-46b4-8dc9-5e27c23cd2f1",
   "metadata": {},
   "outputs": [],
   "source": [
    "df = df.drop(['Adj Close'], axis=1)"
   ]
  },
  {
   "cell_type": "code",
   "execution_count": null,
   "id": "f7ab8e1f-f009-4ada-b104-3c2e061b6e48",
   "metadata": {},
   "outputs": [],
   "source": [
    "df.isnull().sum()"
   ]
  },
  {
   "cell_type": "code",
   "execution_count": null,
   "id": "d299b7c5-f776-4d44-9aee-b5a548cd823d",
   "metadata": {},
   "outputs": [],
   "source": [
    "features = ['Open', 'High', 'Low', 'Close']\n",
    "\n",
    "plt.subplots(figsize=(20,10))\n",
    "for i, col in enumerate(features):\n",
    "  plt.subplot(2,2,i+1)\n",
    "  sb.distplot(df[col])\n",
    "plt.show()"
   ]
  },
  {
   "cell_type": "code",
   "execution_count": null,
   "id": "b026b8b8-9e27-43af-b408-8ad5f4a6f216",
   "metadata": {},
   "outputs": [],
   "source": [
    "plt.subplots(figsize=(20,10))\n",
    "for i, col in enumerate(features):\n",
    "  plt.subplot(2,2,i+1)\n",
    "  sb.boxplot(df[col])\n",
    "plt.show()"
   ]
  },
  {
   "cell_type": "code",
   "execution_count": null,
   "id": "93ba8809-a726-491c-88cc-86d3ef8a00ba",
   "metadata": {},
   "outputs": [],
   "source": [
    "splitted = df['Date'].str.split('-', expand=True)\n",
    "\n",
    "df['year'] = splitted[0].astype('int')\n",
    "df['month'] = splitted[1].astype('int')\n",
    "df['day'] = splitted[2].astype('int')\n",
    "\n",
    "# Convert the 'Date' column to datetime objects\n",
    "df['Date'] = pd.to_datetime(df['Date']) \n",
    "\n",
    "df.head()\n"
   ]
  },
  {
   "cell_type": "code",
   "execution_count": null,
   "id": "8a234c60-8067-4503-8732-f56030fdbe92",
   "metadata": {},
   "outputs": [],
   "source": [
    "data_grouped = df.groupby('year').mean()\n",
    "plt.subplots(figsize=(20,10))\n",
    "for i, col in enumerate(['Open', 'High', 'Low', 'Close']):\n",
    "  plt.subplot(2,2,i+1)\n",
    "  data_grouped[col].plot.bar()\n",
    "plt.show()"
   ]
  },
  {
   "cell_type": "code",
   "execution_count": null,
   "id": "f9f51196-ddfc-4eb7-b28f-f53c734f2685",
   "metadata": {},
   "outputs": [],
   "source": [
    "df['is_quarter_end'] = np.where(df['month']%3==0,1,0)\n",
    "df.head()"
   ]
  },
  {
   "cell_type": "code",
   "execution_count": null,
   "id": "821360d5-1006-4d3e-9970-a98e16995176",
   "metadata": {},
   "outputs": [],
   "source": [
    "df['open-close']  = df['Open'] - df['Close']\n",
    "df['low-high']  = df['Low'] - df['High']\n",
    "df['target'] = np.where(df['Close'].shift(-1) > df['Close'], 1, 0)"
   ]
  },
  {
   "cell_type": "code",
   "execution_count": null,
   "id": "42153ccf-f697-45cd-866f-9e5745e296d6",
   "metadata": {},
   "outputs": [],
   "source": [
    "plt.pie(df['target'].value_counts().values, \n",
    "        labels=[0, 1], autopct='%1.1f%%')\n",
    "plt.show()"
   ]
  },
  {
   "cell_type": "code",
   "execution_count": null,
   "id": "cde486cd-6c36-4fba-90a7-e1bd0d6cdb0c",
   "metadata": {},
   "outputs": [],
   "source": [
    "plt.figure(figsize=(10, 10))\n",
    "\n",
    "# As our concern is with the highly\n",
    "# correlated features only so, we will visualize\n",
    "# our heatmap as per that criteria only.\n",
    "sb.heatmap(df.corr() > 0.9, annot=True, cbar=False)\n",
    "plt.show()"
   ]
  },
  {
   "cell_type": "code",
   "execution_count": null,
   "id": "7bb25927-1419-4c41-9eac-ca5d871a354a",
   "metadata": {},
   "outputs": [],
   "source": [
    "features = df[['open-close', 'low-high', 'is_quarter_end']]\n",
    "target = df['target']\n",
    "\n",
    "scaler = StandardScaler()\n",
    "features = scaler.fit_transform(features)\n",
    "#We do not use train test split, rather use the first 70% data to train and last 30% to test\n",
    "X_train, X_valid, Y_train, Y_valid = X_train, X_valid, Y_train, Y_valid = features[:len(features)//7],features[len(features)//7:],target[:len(features)//7],target[len(features)//7:]"
   ]
  },
  {
   "cell_type": "code",
   "execution_count": null,
   "id": "3b45cce3-b418-4349-b3a2-cdc361c3df09",
   "metadata": {},
   "outputs": [],
   "source": [
    "models = [LogisticRegression(), SVC(kernel='poly', probability=True), XGBClassifier()]\n",
    "\n",
    "for i in range(3):\n",
    "  models[i].fit(X_train, Y_train)\n",
    "\n",
    "  print(f'{models[i]} : ')\n",
    "  print('Training Accuracy : ', metrics.roc_auc_score(Y_train, models[i].predict_proba(X_train)[:,1]))\n",
    "  print('Validation Accuracy : ', metrics.roc_auc_score(Y_valid, models[i].predict_proba(X_valid)[:,1]))\n",
    "  print()"
   ]
  },
  {
   "cell_type": "code",
   "execution_count": null,
   "id": "9f50e75d-02bc-466a-98dd-1590d18bb2f7",
   "metadata": {},
   "outputs": [],
   "source": [
    "from sklearn.metrics import ConfusionMatrixDisplay\n",
    "\n",
    "ConfusionMatrixDisplay.from_estimator(models[0], X_valid, Y_valid)\n",
    "plt.show()\n"
   ]
  },
  {
   "cell_type": "code",
   "execution_count": null,
   "id": "45d3669c-45bd-47e6-9abf-cc3c21033a8c",
   "metadata": {},
   "outputs": [],
   "source": []
  }
 ],
 "metadata": {
  "kernelspec": {
   "display_name": "Python 3 (ipykernel)",
   "language": "python",
   "name": "python3"
  },
  "language_info": {
   "codemirror_mode": {
    "name": "ipython",
    "version": 3
   },
   "file_extension": ".py",
   "mimetype": "text/x-python",
   "name": "python",
   "nbconvert_exporter": "python",
   "pygments_lexer": "ipython3",
   "version": "3.12.2"
  }
 },
 "nbformat": 4,
 "nbformat_minor": 5
}
